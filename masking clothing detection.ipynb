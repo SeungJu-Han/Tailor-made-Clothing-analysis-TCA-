{
 "cells": [
  {
   "cell_type": "code",
   "execution_count": null,
   "id": "e309384f",
   "metadata": {},
   "outputs": [],
   "source": [
    "import tensorflow as tf\n",
    "from tensorflow.keras.models import load_model\n",
    "from tensorflow.compat.v1 import ConfigProto\n",
    "from tensorflow.compat.v1 import InteractiveSession\n",
    "\n",
    "class fashion_tools(object):\n",
    "    def __init__(self,imageid,model,version=1.1):\n",
    "        self.imageid = imageid\n",
    "        self.model   = model\n",
    "        self.version = version\n",
    "        \n",
    "    def get_dress(self,stack=False):\n",
    "        \"\"\"limited to top wear and full body dresses (wild and studio working)\"\"\"\n",
    "        \"\"\"takes input rgb----> return PNG\"\"\"\n",
    "        name =  self.imageid\n",
    "        file = cv2.imread(name)\n",
    "        file = tf.image.resize_with_pad(file,target_height=512,target_width=512)\n",
    "        rgb  = file.numpy()\n",
    "        file = np.expand_dims(file,axis=0)/ 255.\n",
    "        seq = self.model.predict(file)\n",
    "        seq = seq[3][0,:,:,0]\n",
    "        seq = np.expand_dims(seq,axis=-1)\n",
    "        c1x = rgb*seq\n",
    "        c2x = rgb*(1-seq)\n",
    "        cfx = c1x+c2x\n",
    "        dummy = np.ones((rgb.shape[0],rgb.shape[1],1))\n",
    "        rgbx = np.concatenate((rgb,dummy*255),axis=-1)\n",
    "        rgbs = np.concatenate((cfx,seq*255.),axis=-1)\n",
    "        if stack:\n",
    "            stacked = np.array((rgbs))\n",
    "            return stacked\n",
    "        else:\n",
    "            return rgbs\n",
    "        \n",
    "        \n",
    "    def get_patch(self):\n",
    "        return None\n",
    "\n",
    "for i in range(1,74):\n",
    "    config = ConfigProto()\n",
    "    config.gpu_options.allow_growth = True\n",
    "    session = InteractiveSession(config=config)\n",
    "\n",
    "    # input 이미지 파일 경로\n",
    "    f = './data_suit/s ('+str(i)+').jpg'\n",
    "\n",
    "    saved = load_model(\"save_ckp_frozen.h5\")\n",
    "\n",
    "   \n",
    "    ###running code\n",
    "\n",
    "\n",
    "    api    = fashion_tools(f,saved)\n",
    "    image_ = api.get_dress(stack=True)\n",
    "    cv2.imwrite(\"./cloth/s_c \"+str(i)+\".png\",image_)"
   ]
  }
 ],
 "metadata": {
  "kernelspec": {
   "display_name": "Python 3 (ipykernel)",
   "language": "python",
   "name": "python3"
  },
  "language_info": {
   "codemirror_mode": {
    "name": "ipython",
    "version": 3
   },
   "file_extension": ".py",
   "mimetype": "text/x-python",
   "name": "python",
   "nbconvert_exporter": "python",
   "pygments_lexer": "ipython3",
   "version": "3.8.11"
  }
 },
 "nbformat": 4,
 "nbformat_minor": 5
}
